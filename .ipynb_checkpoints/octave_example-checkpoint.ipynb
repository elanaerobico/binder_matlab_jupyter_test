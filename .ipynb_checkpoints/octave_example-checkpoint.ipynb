{
 "cells": [
  {
   "cell_type": "code",
   "execution_count": null,
   "id": "354bdfbf-1159-44a5-8a15-ebde14a6b9d4",
   "metadata": {},
   "outputs": [],
   "source": [
    "cargo el modelo\n",
    "close all\n",
    "a = randn(1,10);\n",
    "A = [];\n",
    "for i = 1:10\n",
    "     A=[A,a(i)+i];\n",
    "end\n",
    "plot(a)\n",
    "hold on\n",
    "plot(A)"
   ]
  },
  {
   "cell_type": "code",
   "execution_count": null,
   "id": "c2d08c2c-f973-42ce-b71a-fa6262e61af1",
   "metadata": {},
   "outputs": [],
   "source": [
    "t = linspace(0,6*pi,100);\n",
    "plot(sin(t))\n",
    "grid on\n",
    "hold on\n",
    "plot(cos(t), 'r')"
   ]
  }
 ],
 "metadata": {
  "kernelspec": {
   "display_name": "Octave [conda env:jlab]",
   "language": "octave",
   "name": "conda-env-jlab-octave"
  },
  "language_info": {
   "name": ""
  }
 },
 "nbformat": 4,
 "nbformat_minor": 5
}
